{
 "cells": [
  {
   "cell_type": "markdown",
   "metadata": {
    "colab_type": "text",
    "id": "7-n-CdQJOSCW"
   },
   "source": [
    "#### Setting up the working environment on Google Colab or Kaggle\n",
    "[Colab](http://colab.research.google.com/) and [Kaggle](https://www.kaggle.com/) already come with Python and a collection of the most famous Python packages installed. \n",
    "To install a given library ``x``, you simply need to run a cell with the following content:\n",
    "\n",
    "``!pip install x`` \n",
    "\n",
    "<details>\n",
    "<summary>If you prefer to work locally, expand this cell for a complete guide on how to configure the Python environment!</summary>\n",
    "## Installing Python Packages\n",
    "\n",
    "#### Installing via pip (for the *wise*  *nix users)\n",
    "Like any other major python library, numpy can be downloaded from\n",
    "the [Python Package Index](https://pypi.org/) via Python’s standard pip package manager\n",
    "\n",
    "\n",
    "**Note:** you need Python and pip (https://realpython.com/what-is-pip/) already installed on your system.\n",
    "\n",
    "```\n",
    "\n",
    "python -m pip install --user numpy \n",
    "\n",
    "```\n",
    "\n",
    "It is preferable to use the --user flag, as it prevents the need for *sudo* privileges\n",
    "\n",
    "\n",
    "\n",
    "#### Install with Anaconda \n",
    "\n",
    "> (**Recommended for Windows users**)\n",
    "\n",
    "Anaconda is a free and open-source distribution of the Python and R programming languages for scientific computing (data science, machine learning applications, large-scale data processing, predictive analytic, etc.), that aims to simplify package management and deployment. Package versions are managed by the package management system conda.\n",
    "\n",
    "The Anaconda distribution is used by over 12 million users and includes more than 1400 popular data-science packages suitable for Windows, Linux, and MacOs.\n",
    "\n",
    "It can be download at the following link [Anaconda](https://www.anaconda.com/distribution/).\n",
    "\n",
    "Please download and install the Python 3.7 version and you are done!  \n",
    "\n",
    "Anaconda allows you to easily manage and create  different *environments*.\n",
    "\n",
    "Installing a package with conda is simple. You need to search the package you want to install at [https://anaconda.org/](https://anaconda.org/)  and just copy the command.\n",
    "\n",
    "For instance:\n",
    "```\n",
    "conda install -c anaconda numpy \n",
    "\n",
    "```\n",
    "\n",
    "###  Good Practice\n",
    "Regardless of the way you decide to install your python distribution,\n",
    "in order to have a clean python setup, you should get used to the concept of python *environment*.\n",
    "\n",
    "**What is an Environment?**\n",
    "A environment is a directory containing all the packages and dependencies required by your project.\n",
    "\n",
    "You may want to create an environment for every project you work on.\n",
    "There are two main benefits deriving by the endorsement of such behavior:\n",
    "\n",
    " 1. It will be easier to share the project among different machines.\n",
    " 2. You are reducing the risk of messing up your entire python ecosystem.\n",
    "    \n",
    "---\n",
    "*Example*\n",
    "\n",
    "You have one environment with NumPy 1.7 and its dependencies, and another environment with NumPy 1.6 for legacy testing. \n",
    "All the changes you made on one environment do no affect the others. So, you can keep working on different projects as they\n",
    "were isolated from the others.\n",
    "\n",
    "---\n",
    "\n",
    "### How to create an environment\n",
    "#### Non-Conda Users\n",
    "First you need to install the *virtualenv* package via:\n",
    "```\n",
    "pip install virtualenv\n",
    "```\n",
    "\n",
    "The you issue:\n",
    "\n",
    "```\n",
    "virtualenv <name-of-the-environment>\n",
    "source path/to/the/environment/bin/activate\n",
    "```\n",
    "From this moment forward, your work session will use this environment\n",
    "as its python distribution.\n",
    "\n",
    "This means that, whenever you call ```pip install something```\n",
    "it is installed in the current active virtual environment.\n",
    "\n",
    "In order to deactivate the environment:\n",
    "```\n",
    "deactivate <name-of-the-environment>\n",
    "```\n",
    "\n",
    "#### Conda Users\n",
    "With conda is even simpler. \n",
    "You create an environment with the following command:\n",
    "\n",
    "```\n",
    "conda create -n <name-of-the-environment> python[=version number]\n",
    "```\n",
    "\n",
    "The you activate it with:\n",
    "```\n",
    "conda activate <name-of-the-environment> \n",
    "```\n",
    "\n",
    "And install packages with:\n",
    "\n",
    "```\n",
    "conda install -n <name-of-the-environment> something\n",
    "``` \n",
    "</details>"
   ]
  },
  {
   "cell_type": "markdown",
   "metadata": {},
   "source": [
    "### Introduction to NumPy"
   ]
  },
  {
   "cell_type": "code",
   "execution_count": null,
   "metadata": {},
   "outputs": [],
   "source": [
    "# Installing NumPy\n",
    "# !pip install numpy"
   ]
  },
  {
   "cell_type": "code",
   "execution_count": 1,
   "metadata": {
    "colab": null,
    "colab_type": "code",
    "id": "WEYuSoClOBL4",
    "jupyter": {
     "outputs_hidden": false
    }
   },
   "outputs": [],
   "source": [
    "from IPython.display import Image\n",
    "import os\n",
    "import numpy as np\n",
    "  \n",
    "IMG_PATH = \"./img\""
   ]
  },
  {
   "cell_type": "code",
   "execution_count": 2,
   "metadata": {
    "colab": null,
    "colab_type": "code",
    "id": "SHb_zxELFKeb",
    "jupyter": {
     "outputs_hidden": false
    }
   },
   "outputs": [],
   "source": [
    "'''\n",
    "Let's define a utility function that will be useful later on to inspect our numpy arrays.\n",
    "'''\n",
    "def describe(a):\n",
    "  \"\"\"\n",
    "  Description of the array a\n",
    "  \n",
    "  Parameters\n",
    "  ----------\n",
    "    a : numpy array\n",
    "  \"\"\"\n",
    "  print(\"data:\\n{}\\nshape:{}\\ndtype: {}\".format(a, a.shape, a.dtype))\n",
    "\n",
    "# Utility function to print horizontal rules\n",
    "hrule = lambda x : \"=\"*x"
   ]
  },
  {
   "cell_type": "markdown",
   "metadata": {
    "colab_type": "text",
    "id": "uaoCgFeIS8Yr"
   },
   "source": [
    "### The NumPy ndarray: A Multidimensional Array Object\n",
    "\n",
    "One of the key features of NumPy is its N-dimensional array object, or ndarray, which\n",
    "is a fast, flexible container for large data sets in Python.\n",
    "\n",
    "Arrays enable you to perform\n",
    "mathematical operations on whole blocks of data using similar syntax to the equivalent\n",
    "operations between scalar elements"
   ]
  },
  {
   "cell_type": "code",
   "execution_count": 3,
   "metadata": {
    "colab": null,
    "colab_type": "code",
    "id": "JB-DrFm9TNdY",
    "jupyter": {
     "outputs_hidden": false
    }
   },
   "outputs": [
    {
     "name": "stdout",
     "output_type": "stream",
     "text": [
      "[[6 6 0 4 5]\n",
      " [0 9 9 2 9]\n",
      " [3 9 9 5 4]\n",
      " [3 0 1 1 6]]\n",
      "==============================\n",
      "[[12 12  0  8 10]\n",
      " [ 0 18 18  4 18]\n",
      " [ 6 18 18 10  8]\n",
      " [ 6  0  2  2 12]]\n",
      "==============================\n",
      "[[60 60  0 40 50]\n",
      " [ 0 90 90 20 90]\n",
      " [30 90 90 50 40]\n",
      " [30  0 10 10 60]]\n"
     ]
    }
   ],
   "source": [
    "# create a random matrix of 4x5 dimension with\n",
    "# 20 points drawn from an uniform distribution \n",
    "# defined in the interval (0,10]\n",
    "data = np.random.randint(0,10,20).reshape(4,5)\n",
    "\n",
    "print(data)\n",
    "\n",
    "print(hrule(30))\n",
    "print(data+data)\n",
    "\n",
    "print(hrule(30))\n",
    "print(data*10)"
   ]
  },
  {
   "cell_type": "markdown",
   "metadata": {
    "colab_type": "text",
    "id": "OQwIjpmoUuB4"
   },
   "source": [
    "**Definition: ndarray**\n",
    "\n",
    "An ndarray is a generic multidimensional container for *homogeneous* data\n",
    "(all the elements must have the same type) - **They are not Python lists!**\n",
    "\n",
    "An ndarray is associated with a *shape*, a tuple denoting the size of each dimension.\n",
    "\n",
    "An ndarray is also associated with a *dtype*,  an object describing the data type of the array."
   ]
  },
  {
   "cell_type": "code",
   "execution_count": 4,
   "metadata": {
    "colab": null,
    "colab_type": "code",
    "id": "8EDJEP0vWPjE",
    "jupyter": {
     "outputs_hidden": false
    }
   },
   "outputs": [
    {
     "name": "stdout",
     "output_type": "stream",
     "text": [
      "data: shape (4, 5), dtype int64\n"
     ]
    }
   ],
   "source": [
    "print(\"data: shape {}, dtype {}\".format(data.shape, data.dtype))"
   ]
  },
  {
   "cell_type": "markdown",
   "metadata": {
    "colab_type": "text",
    "id": "sok3GG2AWyQ9"
   },
   "source": [
    "### Creating ndarrays\n",
    "\n",
    "The easiest way is via the **array** function. \n",
    "This function accepts any sequence-like object and returns\n",
    "a new ndarray containing the data passed as input.\n",
    "\n",
    "**Question**: Which is the dtype of data_arr?"
   ]
  },
  {
   "cell_type": "code",
   "execution_count": 5,
   "metadata": {
    "colab": null,
    "colab_type": "code",
    "id": "1e-ui0o8XJFb",
    "jupyter": {
     "outputs_hidden": false
    }
   },
   "outputs": [
    {
     "name": "stdout",
     "output_type": "stream",
     "text": [
      "[6.  7.5 8.  0.  1. ]\n"
     ]
    }
   ],
   "source": [
    "data_list = [6, 7.5, 8, 0, 1]\n",
    "data_arr = np.array(data_list)\n",
    "print(data_arr)"
   ]
  },
  {
   "cell_type": "markdown",
   "metadata": {
    "colab_type": "text",
    "id": "zBTYaW_tX5n2"
   },
   "source": [
    "We can also convert nested sequences, e.g., lists of lists. \n",
    "Numpy will return a multidimensional array.\n"
   ]
  },
  {
   "cell_type": "code",
   "execution_count": 6,
   "metadata": {
    "colab": null,
    "colab_type": "code",
    "id": "czf5uRWeXsU7",
    "jupyter": {
     "outputs_hidden": false
    }
   },
   "outputs": [
    {
     "name": "stdout",
     "output_type": "stream",
     "text": [
      "data:\n",
      "[[1.  0.2 3.  4. ]\n",
      " [1.  2.  3.  4. ]]\n",
      "shape:(2, 4)\n",
      "dtype: float64\n"
     ]
    }
   ],
   "source": [
    "data2 = np.array([[1,0.2,3,4], [1,2,3,4]])\n",
    "describe(data2)"
   ]
  },
  {
   "cell_type": "markdown",
   "metadata": {
    "colab_type": "text",
    "id": "ijiio8DbYPG2"
   },
   "source": [
    "What if the lists have different sizes?"
   ]
  },
  {
   "cell_type": "code",
   "execution_count": 7,
   "metadata": {
    "colab": {
     "base_uri": "https://localhost:8080/",
     "height": 34
    },
    "colab_type": "code",
    "executionInfo": {
     "elapsed": 2255,
     "status": "ok",
     "timestamp": 1553519313875,
     "user": {
      "displayName": "Antonio Caliò",
      "photoUrl": "https://lh6.googleusercontent.com/-T9CStup1Jgg/AAAAAAAAAAI/AAAAAAAAABk/deq4SEmmNPs/s64/photo.jpg",
      "userId": "18036510839742273324"
     },
     "user_tz": -60
    },
    "id": "HBQ7hOJAYPli",
    "jupyter": {
     "outputs_hidden": false
    },
    "outputId": "45345ce9-cd73-4c08-98b3-096c85705300"
   },
   "outputs": [
    {
     "data": {
      "text/plain": [
       "array([list([1, 2, 3, 4]), list([1, 2, 3, 4, 5])], dtype=object)"
      ]
     },
     "execution_count": 7,
     "metadata": {},
     "output_type": "execute_result"
    }
   ],
   "source": [
    "data2_ = np.array([[1,2,3,4], [1,2,3,4,5]], dtype='object')\n",
    "data2_"
   ]
  },
  {
   "cell_type": "markdown",
   "metadata": {
    "colab_type": "text",
    "id": "BIy0d1v7ZDZR"
   },
   "source": [
    "**Note** - Unless explicitly specified, np.array tries to infer the best data type\n",
    "on the basis of the data passed to the function.\n",
    "\n"
   ]
  },
  {
   "cell_type": "code",
   "execution_count": 8,
   "metadata": {
    "colab": null,
    "colab_type": "code",
    "id": "VHWp36MiZUo0",
    "jupyter": {
     "outputs_hidden": false
    }
   },
   "outputs": [
    {
     "data": {
      "text/plain": [
       "dtype('O')"
      ]
     },
     "execution_count": 8,
     "metadata": {},
     "output_type": "execute_result"
    }
   ],
   "source": [
    "data_arr.dtype\n",
    "data2_.dtype"
   ]
  },
  {
   "cell_type": "markdown",
   "metadata": {
    "colab_type": "text",
    "id": "WwESW44nZjDX"
   },
   "source": [
    "### Functions for initializing arrays\n",
    "\n",
    "In addition to np.array, there are several other functions.\n",
    "\n",
    "For instances\n",
    "\n",
    "**np.zeros**. it needs the shape of the array to be created"
   ]
  },
  {
   "cell_type": "code",
   "execution_count": 9,
   "metadata": {
    "colab": null,
    "colab_type": "code",
    "id": "TQTHeZs4Z4bK",
    "jupyter": {
     "outputs_hidden": false
    }
   },
   "outputs": [
    {
     "name": "stdout",
     "output_type": "stream",
     "text": [
      "[0. 0. 0. 0. 0. 0. 0. 0. 0. 0.]\n",
      "==============================\n",
      "[[0. 0.]\n",
      " [0. 0.]]\n"
     ]
    }
   ],
   "source": [
    "print(np.zeros(10)) # create an array of 10 elements\n",
    "print(hrule(30)) \n",
    "print(np.zeros((2,2))) # create a multidimensional array 2x2"
   ]
  },
  {
   "cell_type": "markdown",
   "metadata": {
    "colab_type": "text",
    "id": "q1AaggymZ3kO"
   },
   "source": [
    "**np.empty** creates an array of garbage numbers"
   ]
  },
  {
   "cell_type": "code",
   "execution_count": 10,
   "metadata": {
    "colab": null,
    "colab_type": "code",
    "id": "VKR5_SJ-Z5Ku",
    "jupyter": {
     "outputs_hidden": false
    }
   },
   "outputs": [
    {
     "data": {
      "text/plain": [
       "array([0.        , 0.        , 0.4472136 , 0.0531494 , 0.18257419,\n",
       "       0.4472136 , 0.2125976 , 0.36514837, 0.4472136 , 0.4783446 ,\n",
       "       0.54772256, 0.4472136 , 0.85039041, 0.73029674, 0.4472136 ])"
      ]
     },
     "execution_count": 10,
     "metadata": {},
     "output_type": "execute_result"
    }
   ],
   "source": [
    "np.empty(15) # DO NOT USE ME!"
   ]
  },
  {
   "cell_type": "markdown",
   "metadata": {
    "colab_type": "text",
    "id": "P-HxqjstZ5XG"
   },
   "source": [
    "**np.arange**, it is the counterpart to the built-in range function\n",
    "\n"
   ]
  },
  {
   "cell_type": "code",
   "execution_count": 11,
   "metadata": {
    "colab": null,
    "colab_type": "code",
    "id": "--mBs5SOa1vF",
    "jupyter": {
     "outputs_hidden": false
    }
   },
   "outputs": [
    {
     "data": {
      "text/plain": [
       "array([0, 2, 4, 6, 8])"
      ]
     },
     "execution_count": 11,
     "metadata": {},
     "output_type": "execute_result"
    }
   ],
   "source": [
    "# All the number within (0,10]\n",
    "# with increment 2\n",
    "np.arange(0,10,2) "
   ]
  },
  {
   "cell_type": "markdown",
   "metadata": {
    "colab_type": "text",
    "id": "ZKxnh4NQbMcz"
   },
   "source": [
    "These are just an example. The following table summarize some of the most useful functions.\n",
    "\n",
    "| Function   | Description |\n",
    "|---|---|\n",
    "| asarray | Convert input to ndarray, but do not copy if the input is already an ndarray |\n",
    "| arange |Like the built-in range but returns an ndarray instead of a list | \n",
    "|ones, ones_like |Produce an array of all 1’s with with the same shape and dtype of the given array|\n",
    "|zeros, zeros_like | Like ones but with zeros | \n",
    "| eye, identity |  Create a square N x N identity matrix |\n",
    "\n",
    "### Data Types for ndarrays\n",
    "\n",
    "The data type or dtype is a special object containing the information needed \n",
    "by numpy in order to interpret a chunk of memory as a particular type of data.\n",
    "\n",
    "The numerical dtypes are named the same way: a type name,\n",
    "like float or int , followed by a number indicating the number of bits per element.\n",
    "\n",
    "The following table is a full listing of NumPy's supported data types\n",
    "\n",
    "\n",
    "| Type | Type Code   | Description |\n",
    "|---|---|---|\n",
    "| int8, uint8 | i1, u1 | Signed and unsigned 8-bit (1 byte) integer types  |\n",
    "| int16, uint16 | i2, u2|  Signed and unsigned 16-bit integer types|\n",
    "| int32, uint32 | i4, u4 | Signed and unsigned 32-bit integer types|\n",
    "| int64, uint64 | i8, u8|  Signed and unsigned 32-bit integer types|\n",
    "| float16 | f2 | Half-precision floating point|\n",
    "| float32 | f4 or f | Standard single-precision floating point. Compatible with C float |\n",
    "| float64, float128 | f8 or d |  Standard double-precision floating point. Comp. with C double and Py float |\n",
    "| float128 | f16 or g | Extended-precision floating point | \n",
    "| complex64, complex128, complex256 | c8, c16, c32 | Complex numbers represented by two32, 64, or 128 floats, respectively |\n",
    "| bool | ? | Boolean type storing True and False values |\n",
    "| object | O | Python object type |\n",
    "| string_  | S|  Fixed-length string type (1 byte per character). |\n",
    "|unicode_ | U | Fixed-length unicode type (number of bytes platform specific) |\n",
    "\n",
    "\n",
    "**Casting**\n",
    "\n",
    "We can cast one dtype into another by using the method astype\n",
    "\n",
    "\n"
   ]
  },
  {
   "cell_type": "code",
   "execution_count": 12,
   "metadata": {
    "colab": null,
    "colab_type": "code",
    "id": "jmjZvYnNbLs-",
    "jupyter": {
     "outputs_hidden": false
    }
   },
   "outputs": [
    {
     "name": "stdout",
     "output_type": "stream",
     "text": [
      "data:\n",
      "[[6. 6. 0. 4. 5.]\n",
      " [0. 9. 9. 2. 9.]\n",
      " [3. 9. 9. 5. 4.]\n",
      " [3. 0. 1. 1. 6.]]\n",
      "shape:(4, 5)\n",
      "dtype: float64\n"
     ]
    }
   ],
   "source": [
    "data_float = data.astype(np.float64)\n",
    "describe(data_float)"
   ]
  },
  {
   "cell_type": "code",
   "execution_count": 13,
   "metadata": {},
   "outputs": [
    {
     "data": {
      "text/plain": [
       "array([[6., 6., 0., 4., 5.],\n",
       "       [0., 9., 9., 2., 9.],\n",
       "       [3., 9., 9., 5., 4.],\n",
       "       [3., 0., 1., 1., 6.]])"
      ]
     },
     "execution_count": 13,
     "metadata": {},
     "output_type": "execute_result"
    }
   ],
   "source": [
    "data_float"
   ]
  },
  {
   "cell_type": "markdown",
   "metadata": {
    "colab_type": "text",
    "id": "FajDCQyI2gk_"
   },
   "source": [
    "**Note**\n",
    "When calling astype, numpy crates a new array, even if the new dtype is the same as the old dtype\n"
   ]
  },
  {
   "cell_type": "code",
   "execution_count": 16,
   "metadata": {
    "colab": {
     "base_uri": "https://localhost:8080/",
     "height": 140
    },
    "colab_type": "code",
    "executionInfo": {
     "elapsed": 2178,
     "status": "ok",
     "timestamp": 1553519313879,
     "user": {
      "displayName": "Antonio Caliò",
      "photoUrl": "https://lh6.googleusercontent.com/-T9CStup1Jgg/AAAAAAAAAAI/AAAAAAAAABk/deq4SEmmNPs/s64/photo.jpg",
      "userId": "18036510839742273324"
     },
     "user_tz": -60
    },
    "id": "MSJSAyCU2gIk",
    "jupyter": {
     "outputs_hidden": false
    },
    "outputId": "b33de1b7-3f8b-4564-c0a2-1bb265919fd1"
   },
   "outputs": [
    {
     "name": "stdout",
     "output_type": "stream",
     "text": [
      "data:\n",
      "[[6. 6. 0. 4. 5.]\n",
      " [0. 9. 9. 2. 9.]\n",
      " [3. 9. 9. 5. 4.]\n",
      " [3. 0. 1. 1. 6.]]\n",
      "shape:(4, 5)\n",
      "dtype: float64\n"
     ]
    }
   ],
   "source": [
    "describe(data.astype(np.float64))"
   ]
  },
  {
   "cell_type": "code",
   "execution_count": 17,
   "metadata": {},
   "outputs": [
    {
     "name": "stdout",
     "output_type": "stream",
     "text": [
      "data:\n",
      "[[6 6 0 4 5]\n",
      " [0 9 9 2 9]\n",
      " [3 9 9 5 4]\n",
      " [3 0 1 1 6]]\n",
      "shape:(4, 5)\n",
      "dtype: int64\n"
     ]
    }
   ],
   "source": [
    "describe(data)"
   ]
  },
  {
   "cell_type": "markdown",
   "metadata": {
    "colab_type": "text",
    "id": "frj61QUi3lg9"
   },
   "source": [
    "## Accessing the array\n",
    "\n",
    "### Indexing & Slicing\n",
    "One-dimensional array behaves as a simple old-fashioned Python list.\n"
   ]
  },
  {
   "cell_type": "code",
   "execution_count": 18,
   "metadata": {
    "colab": null,
    "colab_type": "code",
    "id": "ZpLKLE6g37Ux",
    "jupyter": {
     "outputs_hidden": false
    }
   },
   "outputs": [
    {
     "name": "stdout",
     "output_type": "stream",
     "text": [
      "[0 1 2 3 4 5 6 7 8 9]\n",
      "==========\n",
      "[5 6 7]\n",
      "==========\n",
      "[10 10 10 10 10  5  6  7  8  9]\n"
     ]
    }
   ],
   "source": [
    "arr = np.arange(10)\n",
    "\n",
    "print(arr)\n",
    "print(hrule(10))\n",
    "print(arr[5:8]) # slice operator\n",
    "print(hrule(10))\n",
    "\n",
    "arr[0:5] = 10 # be careful\n",
    "print(arr)"
   ]
  },
  {
   "cell_type": "markdown",
   "metadata": {
    "colab_type": "text",
    "id": "VEvbjQ_I4bRo"
   },
   "source": [
    "\n",
    "**Note** - numpy allows us to assign a scalar value to a slice of the array.\n",
    "The value is said to be *broadcast*  over the entire selection.\n",
    " \n",
    "\n",
    "---\n",
    "**Note***. One major difference with Python lists is that the slicing operator\n",
    "returns an *actual view* on the **original** array, instead of a copy of the data.\n",
    "\n",
    "---\n",
    "\n",
    "**What if we need a full copy of the original array?**"
   ]
  },
  {
   "cell_type": "code",
   "execution_count": 19,
   "metadata": {
    "colab": null,
    "colab_type": "code",
    "id": "H56IrCef5v9q",
    "jupyter": {
     "outputs_hidden": false
    }
   },
   "outputs": [
    {
     "name": "stdout",
     "output_type": "stream",
     "text": [
      "[0 1 2 3 4 5 6 7 8 9]\n",
      "==========\n",
      "[-10   1   2   3   4   5   6   7   8   9]\n",
      "==========\n",
      "[-10   1   2   3   4   5   6   7   8   9]\n",
      "==========\n",
      "data:\n",
      "[-100    1    2    3    4]\n",
      "shape:(5,)\n",
      "dtype: int64\n"
     ]
    }
   ],
   "source": [
    "arr = np.arange(10)\n",
    "print(arr)\n",
    "print(hrule(10))\n",
    "\n",
    "arr1 = arr # be careful this is not a copy\n",
    "arr1[0] = -10\n",
    "print(arr)\n",
    "print(hrule(10))\n",
    "arr_ = arr[0:5].copy()\n",
    "arr_[0] = -100\n",
    "print(arr) # it remains the same as before\n",
    "print(hrule(10))\n",
    "\n",
    "describe(arr_)\n"
   ]
  },
  {
   "cell_type": "markdown",
   "metadata": {
    "colab_type": "text",
    "id": "0c00VGHe6eDw"
   },
   "source": [
    "Indexing in multidimensional array is straightforward.\n",
    "You can specify and index for each available dimension.\n",
    "\n"
   ]
  },
  {
   "cell_type": "code",
   "execution_count": 20,
   "metadata": {
    "colab": {
     "base_uri": "https://localhost:8080/",
     "height": 246
    },
    "colab_type": "code",
    "executionInfo": {
     "elapsed": 2147,
     "status": "ok",
     "timestamp": 1553519313881,
     "user": {
      "displayName": "Antonio Caliò",
      "photoUrl": "https://lh6.googleusercontent.com/-T9CStup1Jgg/AAAAAAAAAAI/AAAAAAAAABk/deq4SEmmNPs/s64/photo.jpg",
      "userId": "18036510839742273324"
     },
     "user_tz": -60
    },
    "id": "zQcsJhd66mGx",
    "jupyter": {
     "outputs_hidden": false
    },
    "outputId": "e7e049a7-3409-4259-901e-890009363c1b"
   },
   "outputs": [
    {
     "name": "stdout",
     "output_type": "stream",
     "text": [
      "[[6 6 0 4 5]\n",
      " [0 9 9 2 9]\n",
      " [3 9 9 5 4]\n",
      " [3 0 1 1 6]]\n",
      "==========\n",
      "6\n",
      "==========\n",
      "[6 6 0 4 5]\n",
      "==========\n",
      "[[6 0 4]\n",
      " [9 9 2]\n",
      " [9 9 5]\n",
      " [0 1 1]]\n"
     ]
    }
   ],
   "source": [
    "print(data)\n",
    "print(hrule(10))\n",
    "\n",
    "print(data[0,1])\n",
    "print(hrule(10))\n",
    "print(data[0, :])  # `:` means: \"give me the entire axis!\"\n",
    "print(hrule(10))\n",
    "print(data[:, 1:4])"
   ]
  },
  {
   "cell_type": "markdown",
   "metadata": {
    "colab_type": "text",
    "id": "F7_89Rqu7HxW"
   },
   "source": [
    "Actually, with multidimensional array we can avoid to specify an index for every possible axes."
   ]
  },
  {
   "cell_type": "code",
   "execution_count": null,
   "metadata": {
    "colab": null,
    "colab_type": "code",
    "id": "Wq8TWLjM79ct",
    "jupyter": {
     "outputs_hidden": false
    }
   },
   "outputs": [
    {
     "name": "stdout",
     "output_type": "stream",
     "text": [
      "[[[ 1  2  3]\n",
      "  [ 4  5  6]]\n",
      "\n",
      " [[ 7  8  9]\n",
      "  [10 11 12]]]\n",
      "==========\n",
      "data:\n",
      "[[1 2 3]\n",
      " [4 5 6]]\n",
      "shape:(2, 3)\n",
      "dtype: int64\n",
      "==========\n",
      "data:\n",
      "[[1 2 3]\n",
      " [7 8 9]]\n",
      "shape:(2, 3)\n",
      "dtype: int64\n"
     ]
    }
   ],
   "source": [
    "arr3d = np.array([[[1, 2, 3], [4, 5, 6]], [[7, 8, 9], [10, 11, 12]]]) # 2 x 2 x 3 array\n",
    "print(arr3d)\n",
    "print(hrule(10))\n",
    "\n",
    "describe(arr3d[0])  # take the first element on the first dimension (2x3) array\n",
    "print(hrule(10))\n",
    "\n",
    "# take the first element on the second axis with respect to the entire first axis\n",
    "describe(arr3d[:,0]) "
   ]
  },
  {
   "cell_type": "markdown",
   "metadata": {
    "colab_type": "text",
    "id": "QyAOb1V7VCDs"
   },
   "source": [
    "**Exercise** - Get familiar with array indexing\n",
    "\n"
   ]
  },
  {
   "cell_type": "code",
   "execution_count": null,
   "metadata": {
    "colab": null,
    "colab_type": "code",
    "id": "sOrOKXQUVO6Q",
    "jupyter": {
     "outputs_hidden": false
    }
   },
   "outputs": [],
   "source": [
    "'''\n",
    "Give me the first (2x3) array\n",
    "  \n",
    "  Result (wrt arr3d)\n",
    "  ------\n",
    "    [\n",
    "      [1 2 3],\n",
    "      [4, 5, 6]\n",
    "    ], shape(2,3)\n",
    "    \n",
    "'''\n",
    "describe(\n",
    "# your solution here\n",
    ")\n",
    "print(hrule(20))\n",
    "\n",
    "\n",
    "'''\n",
    "Result (wrt arr3d)\n",
    "------\n",
    "  [1 2 3], shape(3,)\n",
    "'''\n",
    "describe(\n",
    "# your solution here\n",
    ")\n",
    "print(hrule(20))\n",
    "\n",
    "''' \n",
    "Result (wrt arr3d)\n",
    "------\n",
    "  [\n",
    "    [1 2 3 ]\n",
    "    [7 8 9 ]\n",
    "  ], shape (2,3)\n",
    " \n",
    "'''\n",
    "describe(\n",
    "#your solution here\n",
    ")\n",
    "print(hrule(20))\n",
    "\n",
    "'''\n",
    "Result (wrt arr3d)\n",
    "------\n",
    "  [\n",
    "    [4 5 6]\n",
    "    [10 11 12]\n",
    "  ], shape (2,3)\n",
    "'''\n",
    "describe(\n",
    "# your solution here\n",
    ")\n",
    "print(hrule(20))\n",
    "\n",
    "\n",
    "\n",
    "''' \n",
    "Result (wrt arr3d)\n",
    "------\n",
    "  [\n",
    "    [1 4],\n",
    "    [7 10]\n",
    "  ], shape (2,2)\n",
    "'''\n",
    "describe(\n",
    "# your solution here\n",
    ")\n",
    "print(hrule(20))\n",
    "\n",
    "\n",
    "''' \n",
    "Result \n",
    "------\n",
    "  [\n",
    "    [0 2 4],\n",
    "    [6 8 10]\n",
    "  ], shape (2,3)\n",
    "'''\n",
    "describe(\n",
    "# your solution here\n",
    ")\n",
    "print(hrule(20))\n"
   ]
  },
  {
   "cell_type": "markdown",
   "metadata": {
    "colab_type": "text",
    "id": "F22H10uH8wYm"
   },
   "source": [
    "---\n",
    "\n",
    "### Boolean Indexing\n",
    "This is a powerful tool, since it allows us to execute (kind of) queries on the array.\n"
   ]
  },
  {
   "cell_type": "code",
   "execution_count": 22,
   "metadata": {
    "colab": {
     "base_uri": "https://localhost:8080/",
     "height": 34
    },
    "colab_type": "code",
    "executionInfo": {
     "elapsed": 2120,
     "status": "ok",
     "timestamp": 1553519313883,
     "user": {
      "displayName": "Antonio Caliò",
      "photoUrl": "https://lh6.googleusercontent.com/-T9CStup1Jgg/AAAAAAAAAAI/AAAAAAAAABk/deq4SEmmNPs/s64/photo.jpg",
      "userId": "18036510839742273324"
     },
     "user_tz": -60
    },
    "id": "aSwSuiwH9pTo",
    "jupyter": {
     "outputs_hidden": false
    },
    "outputId": "2988145c-a5b7-48a8-aa1c-51b3086575b9"
   },
   "outputs": [
    {
     "name": "stdout",
     "output_type": "stream",
     "text": [
      "[ True False False  True False False False]\n"
     ]
    },
    {
     "data": {
      "text/plain": [
       "array(['Bob', 'Bob'], dtype='<U4')"
      ]
     },
     "execution_count": 22,
     "metadata": {},
     "output_type": "execute_result"
    }
   ],
   "source": [
    "names = np.array(['Bob', 'Joe', 'Will', 'Bob', 'Will', 'Joe', 'Joe'])\n",
    "data = np.random.randn(7, 4) # normally distributed data\n",
    "\n",
    "mask = names == \"Bob\" # it return an array of bool (useful as a mask)\n",
    "print(mask)\n",
    "names[mask]"
   ]
  },
  {
   "cell_type": "code",
   "execution_count": 23,
   "metadata": {},
   "outputs": [
    {
     "data": {
      "text/plain": [
       "array([ True, False,  True,  True,  True, False, False])"
      ]
     },
     "execution_count": 23,
     "metadata": {},
     "output_type": "execute_result"
    }
   ],
   "source": [
    "(names==\"Bob\") | (names==\"Will\")"
   ]
  },
  {
   "cell_type": "markdown",
   "metadata": {},
   "source": [
    "We can perform an element-wise comparison \n",
    "between the name \"Bob\" and the names contained in the array.\n",
    "In this way we are  exploiting the *vectorization* capability of numpy.\n",
    "\n",
    "We can also make rather complex logical expressions, e.g.:\n",
    "\n",
    "\n",
    "```\n",
    "  mask = (names==\"Bob\") | (names == \"Will\")\n",
    "```\n",
    "\n",
    "---\n",
    "**Tip**:\n",
    "\n",
    "As a general rule-of-thumb, it is always preferable to avoid the for-loop and let numpy\n",
    "doing the hard work, since it leads to a cleaner and more efficient code."
   ]
  },
  {
   "cell_type": "code",
   "execution_count": 24,
   "metadata": {
    "jupyter": {
     "outputs_hidden": false
    }
   },
   "outputs": [
    {
     "name": "stdout",
     "output_type": "stream",
     "text": [
      "41.2 µs ± 228 ns per loop (mean ± std. dev. of 7 runs, 10,000 loops each)\n",
      "2.11 µs ± 6.57 ns per loop (mean ± std. dev. of 7 runs, 100,000 loops each)\n",
      "19.52732748387766\n"
     ]
    }
   ],
   "source": [
    "def forSearch(toSearch, sequence):\n",
    "    for e in sequence:\n",
    "        if e == toSearch:\n",
    "            return True\n",
    "    return False\n",
    "\n",
    "randomData = np.random.randint(0,500,1000)\n",
    "x = 250\n",
    "\n",
    "forTime = %timeit -o forSearch(x,randomData)\n",
    "numTime = %timeit -o np.any(randomData==x)\n",
    "print(forTime.best/numTime.best)"
   ]
  },
  {
   "cell_type": "markdown",
   "metadata": {
    "colab_type": "text",
    "id": "9TztwP-9-JoY"
   },
   "source": [
    "---\n",
    "\n",
    "**Exercise 1**\n",
    "Create a vector from the  *names* array which contains all the values but \"Bob\"\n"
   ]
  },
  {
   "cell_type": "code",
   "execution_count": 26,
   "metadata": {},
   "outputs": [
    {
     "data": {
      "text/plain": [
       "array([False,  True,  True, False,  True,  True,  True])"
      ]
     },
     "execution_count": 26,
     "metadata": {},
     "output_type": "execute_result"
    }
   ],
   "source": [
    "names != \"Bob\""
   ]
  },
  {
   "cell_type": "code",
   "execution_count": 25,
   "metadata": {
    "colab": null,
    "colab_type": "code",
    "id": "nGUrhUI2_e8u",
    "jupyter": {
     "outputs_hidden": false
    }
   },
   "outputs": [
    {
     "data": {
      "text/plain": [
       "array(['Joe', 'Will', 'Will', 'Joe', 'Joe'], dtype='<U4')"
      ]
     },
     "execution_count": 25,
     "metadata": {},
     "output_type": "execute_result"
    }
   ],
   "source": [
    "names[names != \"Bob\"]"
   ]
  },
  {
   "cell_type": "code",
   "execution_count": 31,
   "metadata": {},
   "outputs": [
    {
     "name": "stdout",
     "output_type": "stream",
     "text": [
      "['Bob' 'Joe' 'Will' 'Bob' 'Will' 'Joe' 'Joe']\n"
     ]
    },
    {
     "data": {
      "text/plain": [
       "array([0, 3])"
      ]
     },
     "execution_count": 31,
     "metadata": {},
     "output_type": "execute_result"
    }
   ],
   "source": [
    "print(names)\n",
    "np.argwhere(names==\"Bob\").ravel()"
   ]
  },
  {
   "cell_type": "markdown",
   "metadata": {
    "colab_type": "text",
    "id": "f3XQi9pNCuWK"
   },
   "source": [
    "**Exercise** Set all the negative values to zero (in-place)"
   ]
  },
  {
   "cell_type": "code",
   "execution_count": 36,
   "metadata": {
    "colab": null,
    "colab_type": "code",
    "id": "uQ49S6wuC7A1",
    "jupyter": {
     "outputs_hidden": false
    }
   },
   "outputs": [],
   "source": [
    "data = np.random.randint(-10, 10,25).reshape(5,5)"
   ]
  },
  {
   "cell_type": "code",
   "execution_count": 37,
   "metadata": {},
   "outputs": [
    {
     "data": {
      "text/plain": [
       "array([[ -1,  -4,   1,  -4,   8],\n",
       "       [ -5,   0,   9,  -6,  -5],\n",
       "       [ -9,   7,  -1, -10,  -2],\n",
       "       [  1,   3,   4,  -6,  -1],\n",
       "       [  3,   0,   0,  -1,  -5]])"
      ]
     },
     "execution_count": 37,
     "metadata": {},
     "output_type": "execute_result"
    }
   ],
   "source": [
    "data"
   ]
  },
  {
   "cell_type": "code",
   "execution_count": 38,
   "metadata": {},
   "outputs": [
    {
     "data": {
      "text/plain": [
       "array([[ True,  True, False,  True, False],\n",
       "       [ True, False, False,  True,  True],\n",
       "       [ True, False,  True,  True,  True],\n",
       "       [False, False, False,  True,  True],\n",
       "       [False, False, False,  True,  True]])"
      ]
     },
     "execution_count": 38,
     "metadata": {},
     "output_type": "execute_result"
    }
   ],
   "source": [
    "data < 0"
   ]
  },
  {
   "cell_type": "code",
   "execution_count": 40,
   "metadata": {
    "colab": null,
    "colab_type": "code",
    "id": "7B-xuRPFC9hf",
    "jupyter": {
     "outputs_hidden": false
    }
   },
   "outputs": [
    {
     "name": "stdout",
     "output_type": "stream",
     "text": [
      "data:\n",
      "[[0 0 1 0 8]\n",
      " [0 0 9 0 0]\n",
      " [0 7 0 0 0]\n",
      " [1 3 4 0 0]\n",
      " [3 0 0 0 0]]\n",
      "shape:(5, 5)\n",
      "dtype: int64\n"
     ]
    }
   ],
   "source": [
    "data[data < 0] = 0\n",
    "describe(data)"
   ]
  },
  {
   "cell_type": "markdown",
   "metadata": {
    "colab_type": "text",
    "id": "Udp32b09Cnqx"
   },
   "source": [
    "#### Fancy Indexing \n",
    "Fancy indexing is a term adopted in NumPy to describe indexing via integer arrays\n",
    "\n"
   ]
  },
  {
   "cell_type": "code",
   "execution_count": 41,
   "metadata": {
    "colab": null,
    "colab_type": "code",
    "id": "AB7NZLruG0Ei",
    "jupyter": {
     "outputs_hidden": false
    }
   },
   "outputs": [
    {
     "name": "stdout",
     "output_type": "stream",
     "text": [
      "[[0. 0. 0. 0.]\n",
      " [0. 0. 0. 0.]\n",
      " [0. 0. 0. 0.]\n",
      " [0. 0. 0. 0.]\n",
      " [0. 0. 0. 0.]\n",
      " [0. 0. 0. 0.]\n",
      " [0. 0. 0. 0.]\n",
      " [0. 0. 0. 0.]]\n",
      "====================\n",
      "[[0. 0. 0. 0.]\n",
      " [1. 1. 1. 1.]\n",
      " [2. 2. 2. 2.]\n",
      " [3. 3. 3. 3.]\n",
      " [4. 4. 4. 4.]\n",
      " [5. 5. 5. 5.]\n",
      " [6. 6. 6. 6.]\n",
      " [7. 7. 7. 7.]]\n",
      "====================\n",
      "data:\n",
      "[[1. 1. 1. 1.]\n",
      " [2. 2. 2. 2.]\n",
      " [2. 2. 2. 2.]\n",
      " [3. 3. 3. 3.]]\n",
      "shape:(4, 4)\n",
      "dtype: float64\n"
     ]
    }
   ],
   "source": [
    "arr = np.zeros((8,4))\n",
    "print(arr)\n",
    "print(hrule(20))\n",
    "for i in range(8):\n",
    "  arr[i] = i\n",
    "print(arr)\n",
    "print(hrule(20))\n",
    "\n",
    "# select a subset of rows the \n",
    "# exact same order defined inside the list\n",
    "subset = arr[[1,2,2,3]] \n",
    "describe(subset)"
   ]
  },
  {
   "cell_type": "markdown",
   "metadata": {
    "colab_type": "text",
    "id": "DX8KjknmJM_g"
   },
   "source": [
    "Fancy indexing with two arrays\n"
   ]
  },
  {
   "cell_type": "code",
   "execution_count": 42,
   "metadata": {
    "colab": {
     "base_uri": "https://localhost:8080/",
     "height": 254
    },
    "colab_type": "code",
    "executionInfo": {
     "elapsed": 890,
     "status": "ok",
     "timestamp": 1553610685207,
     "user": {
      "displayName": "Antonio Caliò",
      "photoUrl": "https://lh6.googleusercontent.com/-T9CStup1Jgg/AAAAAAAAAAI/AAAAAAAAABk/deq4SEmmNPs/s64/photo.jpg",
      "userId": "18036510839742273324"
     },
     "user_tz": -60
    },
    "id": "EQFa4merJTd2",
    "jupyter": {
     "outputs_hidden": false
    },
    "outputId": "bc3d2266-6228-4a27-c679-399ab56a94fb"
   },
   "outputs": [
    {
     "data": {
      "text/plain": [
       "array([[ 0,  1,  2,  3],\n",
       "       [ 4,  5,  6,  7],\n",
       "       [ 8,  9, 10, 11],\n",
       "       [12, 13, 14, 15],\n",
       "       [16, 17, 18, 19],\n",
       "       [20, 21, 22, 23],\n",
       "       [24, 25, 26, 27],\n",
       "       [28, 29, 30, 31]])"
      ]
     },
     "execution_count": 42,
     "metadata": {},
     "output_type": "execute_result"
    }
   ],
   "source": [
    "data = np.arange(4*8).reshape(8,4)\n",
    "data"
   ]
  },
  {
   "cell_type": "code",
   "execution_count": 43,
   "metadata": {
    "colab": {
     "base_uri": "https://localhost:8080/",
     "height": 254
    },
    "colab_type": "code",
    "executionInfo": {
     "elapsed": 890,
     "status": "ok",
     "timestamp": 1553610685207,
     "user": {
      "displayName": "Antonio Caliò",
      "photoUrl": "https://lh6.googleusercontent.com/-T9CStup1Jgg/AAAAAAAAAAI/AAAAAAAAABk/deq4SEmmNPs/s64/photo.jpg",
      "userId": "18036510839742273324"
     },
     "user_tz": -60
    },
    "id": "EQFa4merJTd2",
    "jupyter": {
     "outputs_hidden": false
    },
    "outputId": "bc3d2266-6228-4a27-c679-399ab56a94fb"
   },
   "outputs": [
    {
     "name": "stdout",
     "output_type": "stream",
     "text": [
      "[ 4 23 29 10]\n"
     ]
    }
   ],
   "source": [
    "data_ = data[[1,5,7,2], [0,3,1,2]]\n",
    "print(data_)\n"
   ]
  },
  {
   "cell_type": "code",
   "execution_count": null,
   "metadata": {
    "colab": {
     "base_uri": "https://localhost:8080/",
     "height": 254
    },
    "colab_type": "code",
    "executionInfo": {
     "elapsed": 890,
     "status": "ok",
     "timestamp": 1553610685207,
     "user": {
      "displayName": "Antonio Caliò",
      "photoUrl": "https://lh6.googleusercontent.com/-T9CStup1Jgg/AAAAAAAAAAI/AAAAAAAAABk/deq4SEmmNPs/s64/photo.jpg",
      "userId": "18036510839742273324"
     },
     "user_tz": -60
    },
    "id": "EQFa4merJTd2",
    "jupyter": {
     "outputs_hidden": false
    },
    "outputId": "bc3d2266-6228-4a27-c679-399ab56a94fb"
   },
   "outputs": [],
   "source": [
    "# data_ contains the values with index\n",
    "indexes = [(u,v) for u,v in  zip([1,5,7,2], [0,3,1,2])]\n",
    "print(indexes)\n",
    "print([data[u,v] for u,v in indexes])"
   ]
  },
  {
   "cell_type": "markdown",
   "metadata": {
    "colab_type": "text",
    "id": "oluyPHLrO-vV"
   },
   "source": [
    "---\n",
    "#### Summary\n",
    "\n",
    "\n"
   ]
  },
  {
   "cell_type": "code",
   "execution_count": 44,
   "metadata": {
    "colab": {
     "base_uri": "https://localhost:8080/",
     "height": 290
    },
    "colab_type": "code",
    "executionInfo": {
     "elapsed": 2067,
     "status": "ok",
     "timestamp": 1553519313894,
     "user": {
      "displayName": "Antonio Caliò",
      "photoUrl": "https://lh6.googleusercontent.com/-T9CStup1Jgg/AAAAAAAAAAI/AAAAAAAAABk/deq4SEmmNPs/s64/photo.jpg",
      "userId": "18036510839742273324"
     },
     "user_tz": -60
    },
    "id": "zY1nuMioObxY",
    "jupyter": {
     "outputs_hidden": false
    },
    "outputId": "a0818de2-6573-4345-9eb3-02bd4ff78d5e"
   },
   "outputs": [
    {
     "data": {
      "image/jpeg": "[encoded data removed]",
      "text/plain": [
       "<IPython.core.display.Image object>"
      ]
     },
     "execution_count": 44,
     "metadata": {
      "image/jpeg": {
       "width": 500
      }
     },
     "output_type": "execute_result"
    }
   ],
   "source": [
    "Image(os.path.join(IMG_PATH, \"slicing.jpg\"), width=500)"
   ]
  },
  {
   "cell_type": "markdown",
   "metadata": {
    "colab_type": "text",
    "id": "joMaklyeOP7m"
   },
   "source": [
    "### Transposing Arrays and Swapping Axes\n",
    "\n",
    "Transposing is a special form of reshaping which similarly returns a view on the underlying\n",
    "data without copying anything. Arrays have the transpose method and also\n",
    "the special T attribute"
   ]
  },
  {
   "cell_type": "code",
   "execution_count": 45,
   "metadata": {
    "colab": {
     "base_uri": "https://localhost:8080/",
     "height": 278
    },
    "colab_type": "code",
    "executionInfo": {
     "elapsed": 2053,
     "status": "ok",
     "timestamp": 1553519313895,
     "user": {
      "displayName": "Antonio Caliò",
      "photoUrl": "https://lh6.googleusercontent.com/-T9CStup1Jgg/AAAAAAAAAAI/AAAAAAAAABk/deq4SEmmNPs/s64/photo.jpg",
      "userId": "18036510839742273324"
     },
     "user_tz": -60
    },
    "id": "8iLmbuSRPVoz",
    "jupyter": {
     "outputs_hidden": false
    },
    "outputId": "bd30ae63-abd0-4bab-fc5f-d483632cb9b9"
   },
   "outputs": [
    {
     "data": {
      "image/png": "[encoded data removed]",
      "text/plain": [
       "<IPython.core.display.Image object>"
      ]
     },
     "execution_count": 45,
     "metadata": {
      "image/png": {
       "width": 500
      }
     },
     "output_type": "execute_result"
    }
   ],
   "source": [
    "Image(os.path.join(IMG_PATH, \"axis.png\"), width=500)"
   ]
  },
  {
   "cell_type": "code",
   "execution_count": 46,
   "metadata": {
    "colab": null,
    "colab_type": "code",
    "id": "HWaJujcyOPDF",
    "jupyter": {
     "outputs_hidden": false
    }
   },
   "outputs": [
    {
     "name": "stdout",
     "output_type": "stream",
     "text": [
      "data:\n",
      "[[ 0  1  2  3  4]\n",
      " [ 5  6  7  8  9]\n",
      " [10 11 12 13 14]]\n",
      "shape:(3, 5)\n",
      "dtype: int64\n",
      "==========\n",
      "data:\n",
      "[[ 0  5 10]\n",
      " [ 1  6 11]\n",
      " [ 2  7 12]\n",
      " [ 3  8 13]\n",
      " [ 4  9 14]]\n",
      "shape:(5, 3)\n",
      "dtype: int64\n"
     ]
    }
   ],
   "source": [
    "arr = np.arange(15).reshape((3, 5))\n",
    "describe(arr)\n",
    "print(hrule(10))\n",
    "describe(arr.T)\n"
   ]
  },
  {
   "cell_type": "markdown",
   "metadata": {
    "colab_type": "text",
    "id": "LycOEGtxOott"
   },
   "source": [
    "For higher dimensional arrays, ```transpose``` will accept a tuple of axis numbers to permute\n",
    "the axes (for extra mind bending):"
   ]
  },
  {
   "cell_type": "code",
   "execution_count": 47,
   "metadata": {
    "colab": null,
    "colab_type": "code",
    "id": "ZwVy0JitOs3I",
    "jupyter": {
     "outputs_hidden": false
    }
   },
   "outputs": [
    {
     "name": "stdout",
     "output_type": "stream",
     "text": [
      "data:\n",
      "[[[ 0  1  2  3]\n",
      "  [ 4  5  6  7]]\n",
      "\n",
      " [[ 8  9 10 11]\n",
      "  [12 13 14 15]]]\n",
      "shape:(2, 2, 4)\n",
      "dtype: int64\n",
      "====================\n",
      "data:\n",
      "[[ 0  1  2  3]\n",
      " [ 4  5  6  7]\n",
      " [ 8  9 10 11]\n",
      " [12 13 14 15]]\n",
      "shape:(4, 4)\n",
      "dtype: int64\n"
     ]
    }
   ],
   "source": [
    "arr = np.arange(16).reshape((2, 2, 4))\n",
    "describe(arr)\n",
    "\n",
    "print(hrule(20))\n",
    "arr_ = arr.reshape(4,4)\n",
    "describe(arr_)"
   ]
  },
  {
   "cell_type": "code",
   "execution_count": 48,
   "metadata": {},
   "outputs": [
    {
     "data": {
      "text/plain": [
       "array([[[ 0,  1,  2,  3],\n",
       "        [ 4,  5,  6,  7]],\n",
       "\n",
       "       [[ 8,  9, 10, 11],\n",
       "        [12, 13, 14, 15]]])"
      ]
     },
     "execution_count": 48,
     "metadata": {},
     "output_type": "execute_result"
    }
   ],
   "source": [
    "arr"
   ]
  },
  {
   "cell_type": "code",
   "execution_count": 49,
   "metadata": {},
   "outputs": [
    {
     "data": {
      "text/plain": [
       "array([[[ 0,  1,  2,  3],\n",
       "        [ 4,  5,  6,  7]],\n",
       "\n",
       "       [[ 8,  9, 10, 11],\n",
       "        [12, 13, 14, 15]]])"
      ]
     },
     "execution_count": 49,
     "metadata": {},
     "output_type": "execute_result"
    }
   ],
   "source": [
    "arr.transpose((0,1,2))"
   ]
  },
  {
   "cell_type": "code",
   "execution_count": 50,
   "metadata": {
    "colab": null,
    "colab_type": "code",
    "id": "ZwVy0JitOs3I",
    "jupyter": {
     "outputs_hidden": false
    }
   },
   "outputs": [
    {
     "name": "stdout",
     "output_type": "stream",
     "text": [
      "====================\n",
      "data:\n",
      "[[[ 0  1  2  3]\n",
      "  [ 8  9 10 11]]\n",
      "\n",
      " [[ 4  5  6  7]\n",
      "  [12 13 14 15]]]\n",
      "shape:(2, 2, 4)\n",
      "dtype: int64\n"
     ]
    }
   ],
   "source": [
    "print(hrule(20))\n",
    "arr = arr.transpose((1,0,2))\n",
    "describe(arr)"
   ]
  },
  {
   "cell_type": "markdown",
   "metadata": {
    "colab_type": "text",
    "id": "Sv_hhMkKP8kZ"
   },
   "source": [
    "Simple transposing with .T is just a special case of swapping axes. ndarray has the\n",
    "method swap axes which takes a pair of axis numbers:"
   ]
  },
  {
   "cell_type": "code",
   "execution_count": 51,
   "metadata": {
    "colab": null,
    "colab_type": "code",
    "id": "_LHHBCEWP8Rk",
    "jupyter": {
     "outputs_hidden": false
    }
   },
   "outputs": [
    {
     "name": "stdout",
     "output_type": "stream",
     "text": [
      "data:\n",
      "[[[ 0  1  2  3]\n",
      "  [ 4  5  6  7]]\n",
      "\n",
      " [[ 8  9 10 11]\n",
      "  [12 13 14 15]]]\n",
      "shape:(2, 2, 4)\n",
      "dtype: int64\n",
      "====================\n",
      "data:\n",
      "[[[ 0  4]\n",
      "  [ 1  5]\n",
      "  [ 2  6]\n",
      "  [ 3  7]]\n",
      "\n",
      " [[ 8 12]\n",
      "  [ 9 13]\n",
      "  [10 14]\n",
      "  [11 15]]]\n",
      "shape:(2, 4, 2)\n",
      "dtype: int64\n"
     ]
    }
   ],
   "source": [
    "arr = np.arange(16).reshape((2, 2, 4))\n",
    "describe(arr)\n",
    "print(hrule(20))\n",
    "\n",
    "arr_ = arr.swapaxes(1,2)\n",
    "describe(arr_)\n"
   ]
  },
  {
   "cell_type": "markdown",
   "metadata": {
    "colab_type": "text",
    "id": "9VHpSubE6nqZ"
   },
   "source": [
    "### Universal Functions: Fast Element-wise Array Functions\n",
    "\n",
    "An universal function, or ufunc, is a function that performs a certain operation \n",
    "upon every element in an array container.\n"
   ]
  },
  {
   "cell_type": "code",
   "execution_count": 52,
   "metadata": {
    "colab": null,
    "colab_type": "code",
    "id": "RcJhbNPv6yNM",
    "jupyter": {
     "outputs_hidden": false
    }
   },
   "outputs": [
    {
     "name": "stdout",
     "output_type": "stream",
     "text": [
      "data:\n",
      "[0. 1. 2. 3. 4. 5. 6. 7. 8. 9.]\n",
      "shape:(10,)\n",
      "dtype: float64\n"
     ]
    }
   ],
   "source": [
    "arr = np.power(np.arange(10), 2) # param1: scalar or array, param2: exp\n",
    "describe(np.sqrt(arr)) "
   ]
  },
  {
   "cell_type": "markdown",
   "metadata": {
    "colab_type": "text",
    "id": "_UdCKwyC7Ghc"
   },
   "source": [
    "These are regarded as unary ufuncs. Others, such as add or maximum , take 2 arrays\n",
    "(thus, binary ufuncs) and return a single array as the result:"
   ]
  },
  {
   "cell_type": "code",
   "execution_count": 53,
   "metadata": {
    "colab": null,
    "colab_type": "code",
    "id": "e6np1Cbf7WDv",
    "jupyter": {
     "outputs_hidden": false
    }
   },
   "outputs": [
    {
     "name": "stdout",
     "output_type": "stream",
     "text": [
      "[2 8 7 4 4 0 8 2 6 6]\n",
      "[8 2 0 9 3 7 9 0 9 1]\n"
     ]
    }
   ],
   "source": [
    "x,y = np.random.randint(0, 10, 10), np.random.randint(0, 10, 10)\n",
    "\n",
    "print(x)\n",
    "print(y)"
   ]
  },
  {
   "cell_type": "code",
   "execution_count": 56,
   "metadata": {
    "colab": null,
    "colab_type": "code",
    "id": "e6np1Cbf7WDv",
    "jupyter": {
     "outputs_hidden": false
    }
   },
   "outputs": [
    {
     "name": "stdout",
     "output_type": "stream",
     "text": [
      "[8 8 7 9 4 7 9 2 9 6]\n",
      "====================\n",
      "[2 2 0 4 3 0 8 0 6 1]\n"
     ]
    }
   ],
   "source": [
    "maximum = np.maximum(x,y)  # element-wise max \n",
    "minimum = np.minimum(x,y)  # element-wise min\n",
    "\n",
    "print(maximum)  \n",
    "print(hrule(20))\n",
    "print(minimum)"
   ]
  },
  {
   "cell_type": "markdown",
   "metadata": {},
   "source": [
    "\n",
    "There are several functions that perform element-wise operation over an array.\n",
    "---\n",
    "\n",
    "*Unary Function*\n",
    "\n",
    "| Function  | Description |\n",
    "|---|---|\n",
    "| abs |  Compute the absolute value element-wise for integer, floating point, or complex values. |\n",
    "| sqrt | Compute the square root of each element. |\n",
    "|square | Compute the square of each element. |\n",
    "|exp | Compute the exponent e x of each element |\n",
    "|log, log10, log2, log1p | Natural logarithm (base e), log base 10, log base 2, and log(1 + x), respectively |\n",
    "|sign | Compute the sign of each element: 1 (positive), 0 (zero), or -1 (negative) |\n",
    "|ceil | Compute the ceiling of each element, i.e. the smallest integer greater than or equal to each element |\n",
    "|floor | Compute the floor of each element, i.e. the largest integer less than or equal to each element |\n",
    "|rint | Round elements to the nearest integer, preserving the dtype |\n",
    "|modf | Return fractional and integral parts of array as separate array |\n",
    "|isnan | Return boolean array indicating whether each value is NaN (Not a Number) |\n",
    "|isfinite, isinf | Return boolean array indicating whether each element is finite (non- inf , non- NaN ) or infinite, respectively |\n",
    "|cos, cosh, sin, sinh,tan, tanh | Regular and hyperbolic trigonometric functions |\n",
    "|arccos, arccosh, arcsin|  * | \n",
    "| arcsinh, arctan, arctanh | Inverse trigonometric functions |\n",
    "| logical_not | Compute truth value of not x element-wise. Equivalent to -arr |\n",
    "\n",
    "\n",
    "\n",
    "---\n",
    "\n",
    "*Binary Function*\n",
    "\n",
    "\n",
    "| Function  | Description |\n",
    "|---|---|\n",
    "| add | Add corresponding elements in arrays |\n",
    "|subtract | Subtract elements in second array from first array |\n",
    "|multiply | Multiply array elements |\n",
    "|divide, floor_divide | Divide or floor divide (truncating the remainder) |\n",
    "|power | Raise elements in first array to powers indicated in second array |\n",
    "|maximum, fmax | Element-wise maximum. fmax ignores NaN |\n",
    "|minimum, fmin | Element-wise minimum. fmin ignores NaN |\n",
    "|mod  | Element-wise modulus (remainder of division) |\n",
    "|copysign | Copy sign of values in second argument to values in first argument |\n",
    "|greater, greater_equal | Perform element-wise comparison, yielding boolean array (>, >=, <, <=, ==, !=) |\n",
    "|less, less_equal, equal, not_equal | * |\n",
    "\n",
    "---\n",
    "**TIP**\n",
    "\n",
    "You should always prefer ufuncs over classic Python for-loops,\n",
    "as they are usually faster.\n",
    "\n",
    "\n"
   ]
  },
  {
   "cell_type": "code",
   "execution_count": 55,
   "metadata": {
    "jupyter": {
     "outputs_hidden": false
    }
   },
   "outputs": [
    {
     "name": "stdout",
     "output_type": "stream",
     "text": [
      "132 µs ± 2.22 µs per loop (mean ± std. dev. of 7 runs, 10,000 loops each)\n",
      "1.68 µs ± 7.97 ns per loop (mean ± std. dev. of 7 runs, 1,000,000 loops each)\n",
      "77.07406434648749\n"
     ]
    }
   ],
   "source": [
    "def power(l):\n",
    "    pow = lambda x : x**2\n",
    "    for i,e in enumerate(l):\n",
    "        l[i] = pow(e)\n",
    "       \n",
    "a = np.random.randint(0,5,1000)\n",
    "forTime = %timeit -o power(a)\n",
    "numTime = %timeit -o np.power(a,2)\n",
    "\n",
    "print(forTime.best/numTime.best)"
   ]
  },
  {
   "cell_type": "markdown",
   "metadata": {
    "colab_type": "text",
    "id": "tuzk2ggD8B0w"
   },
   "source": [
    "### Expressing Conditional Logic as Array Operations\n",
    "\n",
    "The numpy.where function is a vectorized version of the ternary expression x if condition else y.\n",
    "Suppose we had a boolean array and two arrays of values:"
   ]
  },
  {
   "cell_type": "code",
   "execution_count": 57,
   "metadata": {
    "colab": null,
    "colab_type": "code",
    "id": "Jyzolasa-6A1",
    "jupyter": {
     "outputs_hidden": false
    }
   },
   "outputs": [],
   "source": [
    "x = np.array([1.1, 1.2, 1.3, 1.4, 1.5])\n",
    "y = np.array([2.1, 2.2, 2.3, 2.4, 2.5])\n",
    "cond = np.array([True, False, True, True, False])"
   ]
  },
  {
   "cell_type": "markdown",
   "metadata": {
    "colab_type": "text",
    "id": "Fv01m859_DkR"
   },
   "source": [
    "**Exercise**\n",
    "Create  a list $L = [l_1, l_2 \\dots l_n]$ such that\n",
    "$$\n",
    " l_i = \\left\\{\\begin{array}{lr}\n",
    "        x_i & \\text{if } cond_i \\text{ is True} \\\\\n",
    "        y_i & \\text{otherwise } \n",
    "        \\end{array}\\right.\n",
    "$$"
   ]
  },
  {
   "cell_type": "code",
   "execution_count": 58,
   "metadata": {
    "colab": null,
    "colab_type": "code",
    "id": "dOALmkFOAHUV",
    "jupyter": {
     "outputs_hidden": false
    }
   },
   "outputs": [
    {
     "name": "stdout",
     "output_type": "stream",
     "text": [
      "[1.1, 2.2, 1.3, 1.4, 2.5]\n"
     ]
    }
   ],
   "source": [
    "l = [u if cond[i] else v for i,(u,v) in enumerate(zip(x,y))]\n",
    "print(l)"
   ]
  },
  {
   "cell_type": "markdown",
   "metadata": {
    "colab_type": "text",
    "id": "R292PSvPAQ0s"
   },
   "source": [
    "Now, let's do the same thing but in the NumPy way!\n",
    "\n",
    "\n",
    "\n",
    "--- \n",
    "**numpy.where** \n",
    "is a vectorized version of the ternary expression \n",
    "\n",
    "```\n",
    " if (cond) then x else y\n",
    "```\n",
    "\n",
    "Run the following cell for additional information\n"
   ]
  },
  {
   "cell_type": "code",
   "execution_count": 59,
   "metadata": {
    "colab": null,
    "colab_type": "code",
    "id": "w2LDlvQvAQj2",
    "jupyter": {
     "outputs_hidden": false
    }
   },
   "outputs": [
    {
     "name": "stdout",
     "output_type": "stream",
     "text": [
      "\u001b[0;31mCall signature:\u001b[0m  \u001b[0mnp\u001b[0m\u001b[0;34m.\u001b[0m\u001b[0mwhere\u001b[0m\u001b[0;34m(\u001b[0m\u001b[0;34m*\u001b[0m\u001b[0margs\u001b[0m\u001b[0;34m,\u001b[0m \u001b[0;34m**\u001b[0m\u001b[0mkwargs\u001b[0m\u001b[0;34m)\u001b[0m\u001b[0;34m\u001b[0m\u001b[0;34m\u001b[0m\u001b[0m\n",
      "\u001b[0;31mType:\u001b[0m            _ArrayFunctionDispatcher\n",
      "\u001b[0;31mString form:\u001b[0m     <built-in function where>\n",
      "\u001b[0;31mDocstring:\u001b[0m      \n",
      "where(condition, [x, y], /)\n",
      "\n",
      "Return elements chosen from `x` or `y` depending on `condition`.\n",
      "\n",
      ".. note::\n",
      "    When only `condition` is provided, this function is a shorthand for\n",
      "    ``np.asarray(condition).nonzero()``. Using `nonzero` directly should be\n",
      "    preferred, as it behaves correctly for subclasses. The rest of this\n",
      "    documentation covers only the case where all three arguments are\n",
      "    provided.\n",
      "\n",
      "Parameters\n",
      "----------\n",
      "condition : array_like, bool\n",
      "    Where True, yield `x`, otherwise yield `y`.\n",
      "x, y : array_like\n",
      "    Values from which to choose. `x`, `y` and `condition` need to be\n",
      "    broadcastable to some shape.\n",
      "\n",
      "Returns\n",
      "-------\n",
      "out : ndarray\n",
      "    An array with elements from `x` where `condition` is True, and elements\n",
      "    from `y` elsewhere.\n",
      "\n",
      "See Also\n",
      "--------\n",
      "choose\n",
      "nonzero : The function that is called when x and y are omitted\n",
      "\n",
      "Notes\n",
      "-----\n",
      "If all the arrays are 1-D, `where` is equivalent to::\n",
      "\n",
      "    [xv if c else yv\n",
      "     for c, xv, yv in zip(condition, x, y)]\n",
      "\n",
      "Examples\n",
      "--------\n",
      ">>> a = np.arange(10)\n",
      ">>> a\n",
      "array([0, 1, 2, 3, 4, 5, 6, 7, 8, 9])\n",
      ">>> np.where(a < 5, a, 10*a)\n",
      "array([ 0,  1,  2,  3,  4, 50, 60, 70, 80, 90])\n",
      "\n",
      "This can be used on multidimensional arrays too:\n",
      "\n",
      ">>> np.where([[True, False], [True, True]],\n",
      "...          [[1, 2], [3, 4]],\n",
      "...          [[9, 8], [7, 6]])\n",
      "array([[1, 8],\n",
      "       [3, 4]])\n",
      "\n",
      "The shapes of x, y, and the condition are broadcast together:\n",
      "\n",
      ">>> x, y = np.ogrid[:3, :4]\n",
      ">>> np.where(x < y, x, 10 + y)  # both x and 10+y are broadcast\n",
      "array([[10,  0,  0,  0],\n",
      "       [10, 11,  1,  1],\n",
      "       [10, 11, 12,  2]])\n",
      "\n",
      ">>> a = np.array([[0, 1, 2],\n",
      "...               [0, 2, 4],\n",
      "...               [0, 3, 6]])\n",
      ">>> np.where(a < 4, a, -1)  # -1 is broadcast\n",
      "array([[ 0,  1,  2],\n",
      "       [ 0,  2, -1],\n",
      "       [ 0,  3, -1]])\n",
      "\u001b[0;31mClass docstring:\u001b[0m\n",
      "Class to wrap functions with checks for __array_function__ overrides.\n",
      "\n",
      "All arguments are required, and can only be passed by position.\n",
      "\n",
      "Parameters\n",
      "----------\n",
      "dispatcher : function or None\n",
      "    The dispatcher function that returns a single sequence-like object\n",
      "    of all arguments relevant.  It must have the same signature (except\n",
      "    the default values) as the actual implementation.\n",
      "    If ``None``, this is a ``like=`` dispatcher and the\n",
      "    ``_ArrayFunctionDispatcher`` must be called with ``like`` as the\n",
      "    first (additional and positional) argument.\n",
      "implementation : function\n",
      "    Function that implements the operation on NumPy arrays without\n",
      "    overrides.  Arguments passed calling the ``_ArrayFunctionDispatcher``\n",
      "    will be forwarded to this (and the ``dispatcher``) as if using\n",
      "    ``*args, **kwargs``.\n",
      "\n",
      "Attributes\n",
      "----------\n",
      "_implementation : function\n",
      "    The original implementation passed in."
     ]
    }
   ],
   "source": [
    "?np.where"
   ]
  },
  {
   "cell_type": "code",
   "execution_count": 60,
   "metadata": {},
   "outputs": [
    {
     "name": "stdout",
     "output_type": "stream",
     "text": [
      "[ True False  True  True False]\n",
      "[1.1 1.2 1.3 1.4 1.5]\n",
      "[2.1 2.2 2.3 2.4 2.5]\n"
     ]
    }
   ],
   "source": [
    "print(cond)\n",
    "print(x)\n",
    "print(y)"
   ]
  },
  {
   "cell_type": "markdown",
   "metadata": {
    "colab_type": "text",
    "id": "ykij50CTBNFj"
   },
   "source": [
    "**Exercise** Solve the above problem with *numpy*"
   ]
  },
  {
   "cell_type": "code",
   "execution_count": 61,
   "metadata": {
    "colab": null,
    "colab_type": "code",
    "id": "SBN1wQTQBUFF",
    "jupyter": {
     "outputs_hidden": false
    }
   },
   "outputs": [
    {
     "data": {
      "text/plain": [
       "array([1.1, 2.2, 1.3, 1.4, 2.5])"
      ]
     },
     "execution_count": 61,
     "metadata": {},
     "output_type": "execute_result"
    }
   ],
   "source": [
    "np.where(cond, x, y)"
   ]
  },
  {
   "cell_type": "markdown",
   "metadata": {
    "colab_type": "text",
    "id": "soehwmFaBsCH"
   },
   "source": [
    "**Exercise** Set all the values of *arr* to 2 if they are grater than 0 or -2 otherwise"
   ]
  },
  {
   "cell_type": "code",
   "execution_count": 62,
   "metadata": {
    "colab": null,
    "colab_type": "code",
    "id": "nv7t1sbJB-ED",
    "jupyter": {
     "outputs_hidden": false
    }
   },
   "outputs": [
    {
     "name": "stdout",
     "output_type": "stream",
     "text": [
      "data:\n",
      "[[ 2 -4  2 -3]\n",
      " [ 4  2 -2  4]\n",
      " [-2  3  3  4]\n",
      " [-5 -1  2  3]]\n",
      "shape:(4, 4)\n",
      "dtype: int64\n"
     ]
    }
   ],
   "source": [
    "arr = np.random.randint(-5,5, 16).reshape(4,4)\n",
    "describe(arr)"
   ]
  },
  {
   "cell_type": "code",
   "execution_count": 63,
   "metadata": {
    "colab": null,
    "colab_type": "code",
    "id": "QrKbvgzNCFq0",
    "jupyter": {
     "outputs_hidden": false
    }
   },
   "outputs": [
    {
     "data": {
      "text/plain": [
       "array([[ 2, -2,  2, -2],\n",
       "       [ 2,  2, -2,  2],\n",
       "       [-2,  2,  2,  2],\n",
       "       [-2, -2,  2,  2]])"
      ]
     },
     "execution_count": 63,
     "metadata": {},
     "output_type": "execute_result"
    }
   ],
   "source": [
    "np.where(arr>0,2,-2)"
   ]
  },
  {
   "cell_type": "markdown",
   "metadata": {
    "colab_type": "text",
    "id": "2yZyuXihCU_z"
   },
   "source": [
    "**Additional notes on numpy.where**\n",
    "\n",
    "\n",
    "The arrays passed to np.where can be more than just equal sizes array or scalars.\n",
    "With some cleverness you can use where to express more complicated logic; consider\n",
    "this example where I have two boolean arrays, **cond1** and **cond2** , and wish to assign a\n",
    "different value for each of the 4 possible pairs of boolean values.\n",
    "\n",
    "Instead of writing this messy code\n",
    "```\n",
    "result = []\n",
    "for i in range(n):\n",
    "  if cond1[i] and cond2[i]:\n",
    "    result.append(0)\n",
    "  elif cond1[i]:\n",
    "    result.append(1)\n",
    "  elif cond2[i]:\n",
    "    result.append(2)\n",
    "  else:\n",
    "    result.append(3)\n",
    "```\n",
    "\n",
    "I can write this other (messy) code:\n",
    "\n",
    "```\n",
    "np.where(cond1 & cond2, 0,\n",
    "              np.where(cond1, 1, \n",
    "                          np.where(cond2, 2, 3))\n",
    "```\n",
    "\n",
    "---\n",
    "\n",
    "\n",
    "### Mathematical and Statistical Methods\n",
    "\n",
    "A set of mathematical functions which compute statistics about an entire array or about\n",
    "the data along an axis are accessible as array methods.\n",
    "\n",
    "\n",
    "| Function  | Description |\n",
    "|---|---|\n",
    "| sum |  - |\n",
    "|mean |  - |\n",
    "| std, var | Standard deviation and variance |\n",
    "|min, max |  - | \n",
    "|argmin, argmax | - |\n",
    "|cumsum | Cumulative sum of elements starting from 0  |\n",
    "|cumprod | Cumulative product of elements starting from 1 |"
   ]
  },
  {
   "cell_type": "markdown",
   "metadata": {
    "colab_type": "text",
    "id": "yRPk7AkYD_Gj"
   },
   "source": [
    "**Exercise** Get familiar with these methods. Compute each one of them along axis 1.\n"
   ]
  },
  {
   "cell_type": "code",
   "execution_count": 64,
   "metadata": {
    "colab": null,
    "colab_type": "code",
    "id": "Ox-R2zzWDRBB",
    "jupyter": {
     "outputs_hidden": false
    }
   },
   "outputs": [
    {
     "name": "stdout",
     "output_type": "stream",
     "text": [
      "data:\n",
      "[[-0.42276522  0.05946024  0.6003618  -0.35398993]\n",
      " [-1.29321617 -3.59944646 -0.78579621 -0.32777082]\n",
      " [-1.7752387   0.55739718 -0.75695938 -0.54274507]\n",
      " [ 0.57644829  0.0048513   0.88510365 -0.98590866]\n",
      " [-1.21494058  0.86638687  1.70227522  1.76931333]]\n",
      "shape:(5, 4)\n",
      "dtype: float64\n"
     ]
    }
   ],
   "source": [
    "arr = np.random.randn(5, 4) # normally-distributed data\n",
    "describe(arr)"
   ]
  },
  {
   "cell_type": "code",
   "execution_count": 65,
   "metadata": {
    "colab": null,
    "colab_type": "code",
    "id": "LtKyVUycEPfZ",
    "jupyter": {
     "outputs_hidden": false
    }
   },
   "outputs": [
    {
     "name": "stdout",
     "output_type": "stream",
     "text": [
      "-5.037179317266125\n",
      "[-4.12971237 -2.11135088  1.64498509 -0.44110115]\n",
      "[-0.02923328 -1.50155742 -0.62938649  0.12012364  0.78075871]\n"
     ]
    }
   ],
   "source": [
    "print(arr.sum())\n",
    "print(arr.sum(0))\n",
    "print(arr.mean(1))"
   ]
  },
  {
   "cell_type": "markdown",
   "metadata": {
    "colab_type": "text",
    "id": "E7VzHzw4EZEV"
   },
   "source": [
    "#### Unique and Other Set Logic\n",
    "NumPy has some basic set operations for one-dimensional ndarrays. Probably the most\n",
    "commonly used one is **np.unique** , which returns the sorted unique values in an array:"
   ]
  },
  {
   "cell_type": "code",
   "execution_count": 66,
   "metadata": {
    "colab": null,
    "colab_type": "code",
    "id": "zFbY1zbYEeiP",
    "jupyter": {
     "outputs_hidden": false
    }
   },
   "outputs": [
    {
     "name": "stdout",
     "output_type": "stream",
     "text": [
      "data:\n",
      "['Bob' 'Joe' 'Will']\n",
      "shape:(3,)\n",
      "dtype: <U4\n"
     ]
    }
   ],
   "source": [
    "names = np.array(['Bob', 'Joe', 'Will', 'Bob', 'Will', 'Joe', 'Joe'])\n",
    "describe(np.unique(names))"
   ]
  },
  {
   "cell_type": "markdown",
   "metadata": {
    "colab_type": "text",
    "id": "Qwo9O524E-ST"
   },
   "source": [
    "### Linear Algebra \n",
    "\n",
    "\n",
    "|Function | Description |\n",
    "| --- | --- |\n",
    "|diag | Return the diagonal (or off-diagonal) elements of a square matrix as a 1D array |\n",
    "|dot | Matrix multiplication  |\n",
    "|trace | Compute the sum of the diagonal elements |\n",
    "|det | Compute the matrix determinant |\n",
    "|eig | Compute the eigenvalues and eigenvectors of a square matrix |\n",
    "|inv | Compute the inverse of a square matrix |\n",
    "|pinv | Compute the Moore-Penrose pseudo-inverse inverse of a square matrix |\n",
    "|qr | Compute the QR decomposition |\n",
    "|svd | Compute the singular value decomposition (SVD) |\n",
    "|solve | Solve the linear system Ax = b for x, where A is a square matrix |\n",
    "| lstsq | Compute the least-squares solution to y = Xb |\n",
    "\n",
    "\n",
    "\n",
    "\n",
    "---\n",
    "\n",
    "### Random Number Generation\n",
    "The numpy.random module supplements the built-in Python random with functions for\n",
    "efficiently generating entire arrays from random values drawn from a number of \n",
    "probability distributions.\n",
    "\n",
    "You should prefer numpy.random over built-in random function since it is \n",
    "order of magnitude faster."
   ]
  },
  {
   "cell_type": "code",
   "execution_count": 67,
   "metadata": {
    "colab": null,
    "colab_type": "code",
    "id": "ZIwlGLixHATe",
    "jupyter": {
     "outputs_hidden": false
    }
   },
   "outputs": [
    {
     "name": "stdout",
     "output_type": "stream",
     "text": [
      "460 µs ± 8.49 µs per loop (mean ± std. dev. of 7 runs, 1,000 loops each)\n"
     ]
    }
   ],
   "source": [
    "N = 1000\n",
    "%timeit samples = [np.random.normal(0, 1) for _ in range(N)]\n"
   ]
  },
  {
   "cell_type": "code",
   "execution_count": 68,
   "metadata": {
    "colab": null,
    "colab_type": "code",
    "id": "Ef7O3msCIfHc",
    "jupyter": {
     "outputs_hidden": false
    }
   },
   "outputs": [
    {
     "name": "stdout",
     "output_type": "stream",
     "text": [
      "15.6 µs ± 94.5 ns per loop (mean ± std. dev. of 7 runs, 100,000 loops each)\n"
     ]
    }
   ],
   "source": [
    "%timeit np.random.normal(size=N)"
   ]
  },
  {
   "cell_type": "markdown",
   "metadata": {
    "colab_type": "text",
    "id": "o964t7q7JOFr"
   },
   "source": [
    "## Advanced Array Manipulation\n",
    "\n",
    "\n"
   ]
  },
  {
   "cell_type": "markdown",
   "metadata": {
    "colab_type": "text",
    "id": "RIXKj9geKBCM"
   },
   "source": [
    "## Further technical details on ndarray object internals\n",
    "\n",
    "As you’ve\n",
    "seen, the data type, or dtype, determines how the data is interpreted as being floating\n",
    "point, integer, boolean, or any of the other types we’ve been looking at.\n",
    "\n",
    "Part of what makes ndarray powerful is that every array object is a strided view on a\n",
    "block of data.\n",
    "\n",
    "You might wonder, for example, how the array view arr[::2, ::-1] does\n",
    "not copy any data. \n",
    "Simply put, the ndarray is more than just a chunk of memory and\n",
    "a dtype; it also has striding information which enables the array to move through\n",
    "memory with varying step sizes.\n",
    "\n",
    "More precisely, the ndarray internally consists of the\n",
    "following:\n",
    " * A pointer to data, that is a block of system memory\n",
    "* The data type or dtype\n",
    "* A tuple indicating the array’s shape\n",
    "* A tuple of strides, integers indicating the number of bytes to “step” in order to\n",
    "advance one element along a dimension; \n",
    "For example, a typical 3 x 4 x 5 array of float64 (8-byte) values has strides (160 (4x5x8byte), 40 (5x8byte) , 8 (1x8byte) )\n",
    "\n",
    "While it is rare that a typical NumPy user would be interested in the array strides,\n",
    "they are the critical ingredient in constructing copy-less array views. \n",
    "\n",
    "Strides can\n",
    "even be negative which enables an array to move backward through memory, which\n",
    "would be the case in a slice like obj[::-1] or obj[:, ::-1] .\n",
    "\n",
    "\n"
   ]
  },
  {
   "cell_type": "code",
   "execution_count": null,
   "metadata": {
    "colab": {
     "base_uri": "https://localhost:8080/",
     "height": 204
    },
    "colab_type": "code",
    "executionInfo": {
     "elapsed": 522,
     "status": "ok",
     "timestamp": 1553519392581,
     "user": {
      "displayName": "Antonio Caliò",
      "photoUrl": "https://lh6.googleusercontent.com/-T9CStup1Jgg/AAAAAAAAAAI/AAAAAAAAABk/deq4SEmmNPs/s64/photo.jpg",
      "userId": "18036510839742273324"
     },
     "user_tz": -60
    },
    "id": "UCznkBn4NjUy",
    "jupyter": {
     "outputs_hidden": false
    },
    "outputId": "65110db9-d891-4d6e-97ff-d71329084015"
   },
   "outputs": [],
   "source": [
    "Image(os.path.join(IMG_PATH, 'ndarray.png'), width=500)"
   ]
  },
  {
   "cell_type": "code",
   "execution_count": null,
   "metadata": {
    "colab": null,
    "colab_type": "code",
    "id": "IYXkT_ZTZy4-",
    "jupyter": {
     "outputs_hidden": false
    }
   },
   "outputs": [],
   "source": [
    "x = np.array([[0, 1, 2, 3, 4],\n",
    "              [5, 6, 7, 8, 9]], dtype=np.int32)\n",
    "x.strides"
   ]
  },
  {
   "cell_type": "markdown",
   "metadata": {},
   "source": [
    "To move to the next row (first dimension): 20 bytes (which is 5 elements × 4 bytes per element)\n",
    "\n",
    "To move to the next column (second dimension): 4 bytes (which is just the size of one int32)"
   ]
  },
  {
   "cell_type": "markdown",
   "metadata": {
    "colab_type": "text",
    "id": "A6cxZFKR_YBX"
   },
   "source": [
    "### Advanced Array Manipulation\n",
    "There are many ways to work with arrays beyond fancy indexing, slicing, and boolean\n",
    "sub-setting. While much of the heavy lifting for data analysis applications is handled by\n",
    "higher level functions in Pandas (more on this soon), you may at some point need to write a data algorithm\n",
    "that is not found in one of the existing libraries.\n",
    "#### Reshaping Arrays\n",
    "Given what we know about NumPy arrays, it should come as little surprise that you\n",
    "can convert an array from one shape to another without copying any data. To do this,\n",
    "pass a tuple indicating the new shape to the reshape array instance method. For exam-\n",
    "example, suppose we had a one-dimensional array of values that we wished to rearrange into\n",
    "a matrix:"
   ]
  },
  {
   "cell_type": "code",
   "execution_count": null,
   "metadata": {
    "colab": null,
    "colab_type": "code",
    "id": "tUR0t2f0_fSE",
    "jupyter": {
     "outputs_hidden": false
    }
   },
   "outputs": [],
   "source": [
    "arr = np.arange(8)\n",
    "arr = arr.reshape((4,2)) \n",
    "describe(arr)"
   ]
  },
  {
   "cell_type": "markdown",
   "metadata": {
    "colab_type": "text",
    "id": "MM7t0Vx0_s7M"
   },
   "source": [
    "One of the input shape dimensions can be -1, in which case the value used for that\n",
    "dimension will be inferred from the data"
   ]
  },
  {
   "cell_type": "code",
   "execution_count": null,
   "metadata": {
    "colab": null,
    "colab_type": "code",
    "id": "LwFDxldQ_v3g",
    "jupyter": {
     "outputs_hidden": false
    }
   },
   "outputs": [],
   "source": [
    "arr = arr.reshape(-1,2,2)\n",
    "describe(arr)"
   ]
  },
  {
   "cell_type": "markdown",
   "metadata": {
    "colab_type": "text",
    "id": "9XtDNeAIAO7x"
   },
   "source": [
    "If we want to unroll a multi-dimensional array into a one-dimensional array, we can use\n",
    "two methods:\n",
    "\n",
    "*flatten*  and  *ravel* "
   ]
  },
  {
   "cell_type": "code",
   "execution_count": null,
   "metadata": {
    "colab": null,
    "colab_type": "code",
    "id": "U4tZVuJcAj2q",
    "jupyter": {
     "outputs_hidden": false
    }
   },
   "outputs": [],
   "source": [
    "describe(arr.flatten()) # returns a copy\n",
    "print(hrule(20))\n",
    "\n",
    "print(\"original shape = {}\".format(arr.shape))\n",
    "\n",
    "print(hrule(20))\n",
    "describe(arr.ravel()) # returns a view"
   ]
  },
  {
   "cell_type": "markdown",
   "metadata": {
    "colab_type": "text",
    "id": "JHP_pv6jA8sB"
   },
   "source": [
    "#### Concatenating and Splitting Arrays\n",
    "numpy.concatenate takes a sequence (tuple, list, etc.) of arrays and it joins them together\n",
    "along the given axis.\n",
    "\n"
   ]
  },
  {
   "cell_type": "code",
   "execution_count": null,
   "metadata": {
    "colab": null,
    "colab_type": "code",
    "id": "z_N7lUnFBEfQ",
    "jupyter": {
     "outputs_hidden": false
    }
   },
   "outputs": [],
   "source": [
    "arr1 = np.array([[1, 2, 3], [4, 5, 6]])\n",
    "arr2 = np.array([[7, 8, 9], [10, 11, 12]])\n",
    "data = np.concatenate([arr1, arr2], axis=0)\n",
    "describe(data)\n",
    "print(hrule(20))\n",
    "data = np.concatenate([arr1, arr2], axis=1)\n",
    "describe(data)\n"
   ]
  },
  {
   "cell_type": "markdown",
   "metadata": {
    "colab_type": "text",
    "id": "w4SqPHjPAqPr"
   },
   "source": [
    "There are some convenience functions, like vstack and hstack , for common kinds of\n",
    "concatenation. The above operations could have been expressed as:\n"
   ]
  },
  {
   "cell_type": "code",
   "execution_count": null,
   "metadata": {
    "colab": null,
    "colab_type": "code",
    "id": "ZrMt1fg-CPON",
    "jupyter": {
     "outputs_hidden": false
    }
   },
   "outputs": [],
   "source": [
    "data = np.vstack([arr1, arr2])\n",
    "describe(data)\n",
    "print(hrule(20))\n",
    "data = np.hstack([arr1, arr2])\n",
    "describe(data)"
   ]
  },
  {
   "cell_type": "markdown",
   "metadata": {
    "colab_type": "text",
    "id": "nd6w-dDFC39N"
   },
   "source": [
    "**split** slices apart an array into multiple arrays along an axis:"
   ]
  },
  {
   "cell_type": "code",
   "execution_count": null,
   "metadata": {
    "colab": null,
    "colab_type": "code",
    "id": "xllt7JVYC7C1",
    "jupyter": {
     "outputs_hidden": false
    }
   },
   "outputs": [],
   "source": [
    "data = np.arange(10).reshape(5,2)\n",
    "describe(data)\n",
    "print(hrule(20))\n",
    "\n",
    "f,s,t = np.split(data, [1, 3]) # split at position 1 and 3 (the remaining elements will go into t)\n",
    "\n",
    "print(\"First Split\")\n",
    "describe(f)\n",
    "print(hrule(20))\n",
    "\n",
    "print(\"Second Split\")\n",
    "describe(s)\n",
    "print(hrule(20))\n",
    "\n",
    "print(\"Third Split\")\n",
    "describe(t)"
   ]
  },
  {
   "cell_type": "markdown",
   "metadata": {
    "colab_type": "text",
    "id": "IEfhheZxD8jI"
   },
   "source": [
    "Other useful functions\n",
    "\n",
    "| Function  | Description |\n",
    "|---|---|\n",
    "| concatenate | Most general function, concatenates collection of arrays along one axis   |\n",
    "| vstack, row_stack  |  Stack arrays row-wise (along axis 0)  |\n",
    "| hstack | Stack arrays column-wise (along axis 1)  |\n",
    "| column_stack |Like hstack, but converts 1D arrays to 2D column vectors first |\n",
    "| dstack |Stack arrays “depth\"-wise (along axis 2) |\n",
    "| split |Split array at passed locations along a particular axis |\n",
    "| hsplit / vsplit / dsplit |Convenience functions for splitting on axis 0, 1, and 2, respectively |\n",
    "\n",
    "## Broadcasting\n",
    "Broadcasting describes how arithmetic works between arrays of different shapes. It is\n",
    "a very powerful feature, but one that can be easily misunderstood, even by experienced\n",
    "users. \n",
    "\n",
    "The simplest example of broadcasting occurs when combining a scalar value\n",
    "with an array:"
   ]
  },
  {
   "cell_type": "code",
   "execution_count": null,
   "metadata": {
    "colab": null,
    "colab_type": "code",
    "id": "vxkcOqR88vfx",
    "jupyter": {
     "outputs_hidden": false
    }
   },
   "outputs": [],
   "source": [
    "arr = np.arange(5)\n",
    "arr = arr*4\n",
    "describe(arr)"
   ]
  },
  {
   "cell_type": "markdown",
   "metadata": {
    "colab_type": "text",
    "id": "cAnM2Iov8n3T"
   },
   "source": [
    "The scalar 4 has been broadcast to all of the other elements in the multiplication operation.\n",
    "\n",
    "Here, there is a another example where  a multi-dimensional array and a one-dimensional\n",
    "array are involved.\n",
    "\n",
    "We want to subtract the column means by each column of a 2-dimensional array:"
   ]
  },
  {
   "cell_type": "code",
   "execution_count": null,
   "metadata": {
    "colab": null,
    "colab_type": "code",
    "id": "iclCdqi_FaPe",
    "jupyter": {
     "outputs_hidden": false
    }
   },
   "outputs": [],
   "source": [
    "arr = np.arange(12).reshape(4,3)\n",
    "mean = arr.mean(0)\n",
    "describe(arr)\n",
    "print(hrule(20))"
   ]
  },
  {
   "cell_type": "code",
   "execution_count": null,
   "metadata": {
    "colab": null,
    "colab_type": "code",
    "id": "iclCdqi_FaPe",
    "jupyter": {
     "outputs_hidden": false
    }
   },
   "outputs": [],
   "source": [
    "describe(mean)\n",
    "print(hrule(20))"
   ]
  },
  {
   "cell_type": "code",
   "execution_count": null,
   "metadata": {
    "colab": null,
    "colab_type": "code",
    "id": "iclCdqi_FaPe",
    "jupyter": {
     "outputs_hidden": false
    }
   },
   "outputs": [],
   "source": [
    "sub = arr - mean\n",
    "describe(sub)"
   ]
  },
  {
   "cell_type": "markdown",
   "metadata": {
    "colab_type": "text",
    "id": "vQyPE1JUGWEQ"
   },
   "source": [
    "This is what happened:\n"
   ]
  },
  {
   "cell_type": "code",
   "execution_count": null,
   "metadata": {
    "colab": null,
    "colab_type": "code",
    "id": "iyge5Yiut0yQ",
    "jupyter": {
     "outputs_hidden": false
    }
   },
   "outputs": [],
   "source": [
    "Image(os.path.join(IMG_PATH, 'broadcasting.png'), width=500)"
   ]
  },
  {
   "cell_type": "markdown",
   "metadata": {
    "colab_type": "text",
    "id": "dPryCcIsuQrC"
   },
   "source": [
    "---\n",
    "**The Broadcasting Rule**\n",
    "\n",
    "Broadcasting in NumPy follows a strict set of rules to determine the interaction between the two arrays:\n",
    "\n",
    "1. **R1**. If the two arrays differ in their number of dimensions, the shape of the one with fewer dimensions is padded with ones on its leading (left) side\n",
    "\n",
    "2. **R2**. If the shape of the two arrays does not match in any dimension, the array with shape equal to 1 in that dimension is stretched to match the other shape\n",
    "\n",
    "3. **R3**. If in any dimension the sizes disagree and neither is equal to 1, an error is raised\n",
    "\n",
    "---\n",
    "\n",
    "**Case 1**\n"
   ]
  },
  {
   "cell_type": "code",
   "execution_count": null,
   "metadata": {
    "colab": null,
    "colab_type": "code",
    "id": "L-vckPCS-SDR",
    "jupyter": {
     "outputs_hidden": false
    }
   },
   "outputs": [],
   "source": [
    "M = np.ones((2,3))\n",
    "a = np.arange(3)\n",
    "\n",
    "describe(M)\n",
    "print(hrule(20))\n",
    "\n",
    "describe(a)\n"
   ]
  },
  {
   "cell_type": "markdown",
   "metadata": {
    "colab_type": "text",
    "id": "-tq1nEIN_Ma-"
   },
   "source": [
    "M and a have different dimensions, therefore **R1** applies. The shape of the\n",
    "of the one with fewer dimensions is *padded* with ones on its leading (left) side.\n",
    "\n",
    "The shape change as:\n",
    "\n",
    "```\n",
    "  M.shape = (2,3) -> (2, 3)\n",
    "  a.shape = (3,) -> (1, 3)\n",
    "```\n",
    "Then, since the first dimension disagree, **R2** applies, thus NumPy stretches this dimension to match.\n",
    "\n",
    "```\n",
    "M.shape = (2,3) -> (2,3) -> (2,3)\n",
    "a.shape = (3,) -> (1,3) -> (2, 3)\n",
    "```\n",
    "Now the shape of the two arrays matches and the operation can be performed.\n",
    "\n",
    "This is what happened to array ```a```\n",
    "\n",
    "\n"
   ]
  },
  {
   "cell_type": "code",
   "execution_count": null,
   "metadata": {},
   "outputs": [],
   "source": [
    "np.repeat(np.arange(3).reshape(1,3),3,0)"
   ]
  },
  {
   "cell_type": "code",
   "execution_count": null,
   "metadata": {
    "colab": null,
    "colab_type": "code",
    "id": "JmliQcO0C8Q2",
    "jupyter": {
     "outputs_hidden": false
    }
   },
   "outputs": [],
   "source": [
    "Image(os.path.join(IMG_PATH, 'broadcasting_.png'), width=500)"
   ]
  },
  {
   "cell_type": "markdown",
   "metadata": {
    "colab_type": "text",
    "id": "tcduBDEhDJkR",
    "jupyter": {
     "source_hidden": true
    }
   },
   "source": []
  },
  {
   "cell_type": "code",
   "execution_count": null,
   "metadata": {
    "colab": null,
    "colab_type": "code",
    "id": "xHA9Hmb4CTAp",
    "jupyter": {
     "outputs_hidden": false
    }
   },
   "outputs": [],
   "source": [
    "describe(M+a)"
   ]
  },
  {
   "cell_type": "markdown",
   "metadata": {
    "colab_type": "text",
    "id": "ZBUFFSvHDPrx"
   },
   "source": [
    "---\n",
    "**Case 2**\n",
    "\n",
    "Let's see an example where both arrays need to be broadcast\n"
   ]
  },
  {
   "cell_type": "code",
   "execution_count": null,
   "metadata": {
    "colab": null,
    "colab_type": "code",
    "id": "ogM1jUiMDvRg",
    "jupyter": {
     "outputs_hidden": false
    }
   },
   "outputs": [],
   "source": [
    "a = np.arange(3).reshape(3,1)\n",
    "b = np.arange(3)\n",
    "\n",
    "describe(a)\n",
    "print(hrule(20))\n",
    "\n",
    "describe(b)\n"
   ]
  },
  {
   "cell_type": "markdown",
   "metadata": {
    "colab_type": "text",
    "id": "UCWH7RxjD6Rb"
   },
   "source": [
    "In this case **R1** applies, therefore the shape of *b* is padded.\n",
    "\n",
    "```\n",
    "a.shape = (3, 1) -> (3, 1)\n",
    "b.shape = (3, )  -> (1, 3)\n",
    "```\n",
    "The **R2** applies to both the arrays:\n",
    "\n",
    "```\n",
    "a.shape = (3, 1) -> (3, 1) -> (3, 3)\n",
    "b.shape = (3, ) -> (1, 3) -> (3, 3)\n",
    "```\n",
    "Because the result matches, these shapes are compatible. \n",
    "We can see this here:"
   ]
  },
  {
   "cell_type": "code",
   "execution_count": null,
   "metadata": {
    "colab": null,
    "colab_type": "code",
    "id": "GrZ6q1bsEttz",
    "jupyter": {
     "outputs_hidden": false
    }
   },
   "outputs": [],
   "source": [
    "describe(a+b)"
   ]
  },
  {
   "cell_type": "markdown",
   "metadata": {
    "colab_type": "text",
    "id": "MSrI9sHQFqqH"
   },
   "source": [
    "---\n",
    "**Case 3**\n",
    "\n",
    "Now let's take a look at an example in which the two arrays are not compatible:"
   ]
  },
  {
   "cell_type": "code",
   "execution_count": null,
   "metadata": {
    "colab": null,
    "colab_type": "code",
    "id": "OAadQtl3GNFx",
    "jupyter": {
     "outputs_hidden": false
    }
   },
   "outputs": [],
   "source": [
    "M = np.ones((3,2))\n",
    "a = np.arange(3)\n",
    "\n",
    "describe(M)\n",
    "print(hrule(20))\n",
    "\n",
    "describe(a)\n",
    "print(hrule(20))"
   ]
  },
  {
   "cell_type": "markdown",
   "metadata": {
    "colab_type": "text",
    "id": "KkWmHRcgGeNb"
   },
   "source": [
    "This is just a slightly different situation than in the first example: the matrix M is transposed.\n",
    "Again, **R1** applies on array *a*. Then by **R2** the first dimension of *a* is stretched\n",
    "to match that of *M*.\n",
    "\n",
    "```\n",
    "M.shape = (3, 2) -> (3, 2) -> (3, 2)\n",
    "a.shape = (3,)   -> (1, 3) -> (3, 3)  \n",
    "```\n",
    "\n",
    "Then **R3** is triggered, the array are compatible and a ValueError exception is raised\n"
   ]
  },
  {
   "cell_type": "code",
   "execution_count": null,
   "metadata": {
    "colab": null,
    "colab_type": "code",
    "id": "--NmIdi8HlpZ",
    "jupyter": {
     "outputs_hidden": false
    }
   },
   "outputs": [],
   "source": [
    "M+a"
   ]
  },
  {
   "cell_type": "markdown",
   "metadata": {
    "colab_type": "text",
    "id": "OIXi9cejNfZL"
   },
   "source": [
    "---\n",
    "## Conclusions\n",
    "\n",
    "This is the end of this section.\n",
    "If you want to keep practicing you can follow this link:\n",
    "[Numpy 100](http://www.labri.fr/perso/nrougier/teaching/numpy.100/)"
   ]
  }
 ],
 "metadata": {
  "colab": {
   "collapsed_sections": null,
   "name": "Lecture 2.ipynb",
   "provenance": null,
   "toc_visible": true,
   "version": "0.3.2"
  },
  "kernelspec": {
   "display_name": "dev",
   "language": "python",
   "name": "python3"
  },
  "language_info": {
   "codemirror_mode": {
    "name": "ipython",
    "version": 3
   },
   "file_extension": ".py",
   "mimetype": "text/x-python",
   "name": "python",
   "nbconvert_exporter": "python",
   "pygments_lexer": "ipython3",
   "version": "3.9.6"
  },
  "name": "Lecture 1.ipynb"
 },
 "nbformat": 4,
 "nbformat_minor": 4
}
